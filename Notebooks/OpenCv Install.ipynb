{
 "cells": [
  {
   "cell_type": "markdown",
   "metadata": {},
   "source": [
    "Install opencv\n",
    "conda install -c menpo opencv"
   ]
  },
  {
   "cell_type": "code",
   "execution_count": 5,
   "metadata": {},
   "outputs": [
    {
     "name": "stdout",
     "output_type": "stream",
     "text": [
      "Collecting keyboard\n",
      "  Using cached https://files.pythonhosted.org/packages/8d/14/b7a8f46e750b5905b099f0ae164a00bc99fe2a3029b4d54ae978797d2c15/keyboard-0.13.3-py2.py3-none-any.whl\n",
      "Installing collected packages: keyboard\n",
      "Successfully installed keyboard-0.13.3\n"
     ]
    }
   ],
   "source": [
    "!pip install keyboard"
   ]
  },
  {
   "cell_type": "code",
   "execution_count": 6,
   "metadata": {},
   "outputs": [
    {
     "name": "stdout",
     "output_type": "stream",
     "text": [
      "Requirement already satisfied: matplotlib in c:\\users\\qpatole\\appdata\\local\\continuum\\anaconda3\\envs\\bee 3.7\\lib\\site-packages (3.0.3)\n",
      "Requirement already satisfied: pyparsing!=2.0.4,!=2.1.2,!=2.1.6,>=2.0.1 in c:\\users\\qpatole\\appdata\\local\\continuum\\anaconda3\\envs\\bee 3.7\\lib\\site-packages (from matplotlib) (2.4.0)\n",
      "Requirement already satisfied: cycler>=0.10 in c:\\users\\qpatole\\appdata\\local\\continuum\\anaconda3\\envs\\bee 3.7\\lib\\site-packages (from matplotlib) (0.10.0)\n",
      "Requirement already satisfied: numpy>=1.10.0 in c:\\users\\qpatole\\appdata\\local\\continuum\\anaconda3\\envs\\bee 3.7\\lib\\site-packages (from matplotlib) (1.16.3)\n",
      "Requirement already satisfied: python-dateutil>=2.1 in c:\\users\\qpatole\\appdata\\local\\continuum\\anaconda3\\envs\\bee 3.7\\lib\\site-packages (from matplotlib) (2.8.0)\n",
      "Requirement already satisfied: kiwisolver>=1.0.1 in c:\\users\\qpatole\\appdata\\local\\continuum\\anaconda3\\envs\\bee 3.7\\lib\\site-packages (from matplotlib) (1.0.1)\n",
      "Requirement already satisfied: six in c:\\users\\qpatole\\appdata\\local\\continuum\\anaconda3\\envs\\bee 3.7\\lib\\site-packages (from cycler>=0.10->matplotlib) (1.12.0)\n",
      "Requirement already satisfied: setuptools in c:\\users\\qpatole\\appdata\\local\\continuum\\anaconda3\\envs\\bee 3.7\\lib\\site-packages (from kiwisolver>=1.0.1->matplotlib) (41.0.0)\n"
     ]
    }
   ],
   "source": [
    "!pip install matplotlib"
   ]
  },
  {
   "cell_type": "code",
   "execution_count": 7,
   "metadata": {},
   "outputs": [],
   "source": [
    "import argparse\n",
    "import cv2\n",
    "import numpy as np\n",
    "import pprint\n",
    "import time\n",
    "import sys\n",
    "import keyboard\n",
    "import os\n",
    "from matplotlib import pyplot as plt"
   ]
  },
  {
   "cell_type": "code",
   "execution_count": null,
   "metadata": {},
   "outputs": [],
   "source": []
  }
 ],
 "metadata": {
  "kernelspec": {
   "display_name": "Python 3",
   "language": "python",
   "name": "python3"
  },
  "language_info": {
   "codemirror_mode": {
    "name": "ipython",
    "version": 3
   },
   "file_extension": ".py",
   "mimetype": "text/x-python",
   "name": "python",
   "nbconvert_exporter": "python",
   "pygments_lexer": "ipython3",
   "version": "3.7.3"
  }
 },
 "nbformat": 4,
 "nbformat_minor": 2
}
