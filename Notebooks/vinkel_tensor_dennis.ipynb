{
 "cells": [
  {
   "cell_type": "code",
   "execution_count": 64,
   "metadata": {},
   "outputs": [
    {
     "name": "stdout",
     "output_type": "stream",
     "text": [
      "x shape (1411, 2)\n",
      "y shape (1411,)\n",
      "(1129, 2)\n",
      "(1129, 1)\n",
      "(282, 2)\n",
      "(282, 1)\n"
     ]
    }
   ],
   "source": [
    "import os\n",
    "import json\n",
    "import numpy as np\n",
    "import random\n",
    "cwd = os.path.join(\"C:\\\\\",\"Users\",\"qpatole\",\"Programming\",\"WingDataFiles\",\"bee\",\"wings\",\"WingIndexFiles\")\n",
    "cwd = os.path.join(\"C:\\\\\",\"Homeroot\",\"00Biodling\",\"bee\",\"WingDataFiles\",\"bee\",\"wings\",\"WingIndexFiles\")\n",
    "\n",
    "# Gula italienska - Apis Mellifera Ligustica\n",
    "# Gråa krainerbin - Apis Mellifera Carnica\n",
    "# Mörka nordiska bin - Apis Mellifera Mellifera\n",
    "# Buckfast - Blanding???\n",
    "\n",
    "def isApisMelliferaMellifera(Ci, Dv):\n",
    "    if -10 < Dv < 0 and 1.0 < Ci < 1.9:\n",
    "        return 1\n",
    "    return 0\n",
    "\n",
    "def isApisMelliferaCarnica(Ci, Dv):\n",
    "    if 0 < Dv < 10 and 2.1 < Ci < 6:\n",
    "        return 1\n",
    "    return 0\n",
    "#\"\"\"\n",
    "def train_test_split_by_category(x, y, test_size=0.2):\n",
    "    print(\"x shape \" + str(x.shape))\n",
    "    print(\"y shape \" + str(y.shape))\n",
    "    \n",
    "    #Devide by category\n",
    "    byCategory = []\n",
    "    train = np.empty([0,3])\n",
    "    test = np.empty([0,3])\n",
    "    #print (\"Len data       \" + str(len(x)))\n",
    "    for i in range(0,2):\n",
    "        data = np.column_stack((x,y))\n",
    "        byCategory.append(data[data[:,2]==i])\n",
    "        np.random.shuffle(byCategory[i])\n",
    "        #print (\"Len category \" + str(i) + \" \" + str(len(byCategory[i])))\n",
    "        split_pos = int(len(byCategory[i])*(test_size))\n",
    "        #print (\"Split pos \" + str(split_pos))\n",
    "        train = np.vstack((train, byCategory[i][split_pos:]))\n",
    "        test = np.vstack((test, byCategory[i][:split_pos]))\n",
    "            \n",
    "        #print(\"Train shape: \" + str(train.shape))\n",
    "        #print(\"Test shape: \" + str(test.shape))\n",
    "    return (train[:,0:2], train[:,[2]], test[:,0:2], test[:,[2]]) \n",
    "#\"\"\"\n",
    "\n",
    "\n",
    "def load_DvCi_data(path):\n",
    "    x_train = []\n",
    "    y_train = []\n",
    "    for file in os.listdir(path):\n",
    "        if not \".json\" in file:\n",
    "            continue\n",
    "        with open(os.path.join(cwd,file)) as json_file:  \n",
    "            data = json.load(json_file)\n",
    "            for wings in data[\"wings\"]:\n",
    "                #print (wings[\"image\"] + \", Dv: \" + str(wings[\"Dv\"]) + \", Ci: \" + str(wings[\"Ci\"]) + \", isApisMelliferaMellifera \" + str(isApisMelliferaMellifera(wings[\"Ci\"], wings[\"Dv\"])))\n",
    "                #print (wings[\"image\"] + \", Dv: \" + str(wings[\"Dv\"]) + \", Ci: \" + str(wings[\"Ci\"]) + \", isApisMelliferaCarnica \" + str(isApisMelliferaCarnica(wings[\"Ci\"], wings[\"Dv\"])))\n",
    "                x_train.append([wings[\"Dv\"], wings[\"Ci\"]])\n",
    "                y_train.append(isApisMelliferaMellifera(wings[\"Ci\"], wings[\"Dv\"]))\n",
    "                #y_train.append(isApisMelliferaCarnica(wings[\"Ci\"], wings[\"Dv\"]))\n",
    "                #y_train.append([isApisMelliferaMellifera(wings[\"Ci\"], wings[\"Dv\"]),isApisMelliferaCarnica(wings[\"Ci\"], wings[\"Dv\"])])\n",
    "    return train_test_split_by_category(np.array(x_train), np.array(y_train))\n",
    "\n",
    "(x_train, y_train, x_test, y_test) = load_DvCi_data(cwd)\n",
    "print(x_train.shape)\n",
    "print(y_train.shape)\n",
    "print(x_test.shape)\n",
    "print(y_test.shape)"
   ]
  },
  {
   "cell_type": "code",
   "execution_count": 48,
   "metadata": {},
   "outputs": [
    {
     "name": "stdout",
     "output_type": "stream",
     "text": [
      "Millifiera: 948\n"
     ]
    }
   ],
   "source": [
    "print(\"Millifiera: \" + str(np.sum(y_train[:,0]==1)))\n",
    "#print(\"Carnica: \" + str(np.sum(y_train[:,1]==1)))"
   ]
  },
  {
   "cell_type": "code",
   "execution_count": 49,
   "metadata": {},
   "outputs": [],
   "source": [
    "from __future__ import absolute_import, division, print_function\n",
    "\n",
    "# TensorFlow and tf.keras\n",
    "import tensorflow as tf\n",
    "from tensorflow import keras\n",
    "\n",
    "# Helper libraries\n",
    "import numpy as np\n",
    "import matplotlib.pyplot as plt"
   ]
  },
  {
   "cell_type": "code",
   "execution_count": 50,
   "metadata": {},
   "outputs": [],
   "source": [
    "def one_hot_encode(labels):\n",
    "    n_labels = len(labels)\n",
    "    n_unique_labels = len(np.unique(labels))\n",
    "    one_hot_encode = np.zeros((n_labels, n_unique_labels))\n",
    "    for i in range(n_labels):\n",
    "        if labels[i] == 0:\n",
    "            one_hot_encode[i][0] = 1\n",
    "        else:\n",
    "            one_hot_encode[i][1] = 1\n",
    "    return one_hot_encode"
   ]
  },
  {
   "cell_type": "code",
   "execution_count": 51,
   "metadata": {},
   "outputs": [
    {
     "name": "stdout",
     "output_type": "stream",
     "text": [
      "Dim: 2\n",
      "epoch: 0 - cost 0.3943, mse 0.7613, train accuracy 0.8875\n",
      "epoch: 1 - cost 0.3661, mse 0.8820, train accuracy 0.9043\n",
      "epoch: 2 - cost 0.3512, mse 0.9937, train accuracy 0.9114\n",
      "epoch: 3 - cost 0.3423, mse 1.0921, train accuracy 0.9088\n",
      "epoch: 4 - cost 0.3369, mse 1.1764, train accuracy 0.9043\n",
      "epoch: 5 - cost 0.3334, mse 1.2473, train accuracy 0.9043\n",
      "epoch: 6 - cost 0.3309, mse 1.3062, train accuracy 0.9017\n",
      "epoch: 7 - cost 0.3291, mse 1.3554, train accuracy 0.9017\n",
      "epoch: 8 - cost 0.3277, mse 1.3965, train accuracy 0.9017\n",
      "epoch: 9 - cost 0.3264, mse 1.4312, train accuracy 0.9017\n",
      "epoch: 10 - cost 0.3254, mse 1.4605, train accuracy 0.9017\n",
      "epoch: 11 - cost 0.3245, mse 1.4856, train accuracy 0.9017\n",
      "epoch: 12 - cost 0.3236, mse 1.5073, train accuracy 0.9017\n",
      "epoch: 13 - cost 0.3227, mse 1.5262, train accuracy 0.9026\n",
      "epoch: 14 - cost 0.3220, mse 1.5425, train accuracy 0.9026\n",
      "epoch: 15 - cost 0.3213, mse 1.5569, train accuracy 0.9043\n",
      "epoch: 16 - cost 0.3206, mse 1.5695, train accuracy 0.9043\n",
      "epoch: 17 - cost 0.3200, mse 1.5809, train accuracy 0.9043\n",
      "epoch: 18 - cost 0.3193, mse 1.5912, train accuracy 0.9043\n",
      "epoch: 19 - cost 0.3187, mse 1.6007, train accuracy 0.9043\n",
      "Model saved in file: C:\\Homeroot\\00Biodling\\bee\\Model\n"
     ]
    },
    {
     "data": {
      "image/png": "[encoded data removed]",
      "text/plain": [
       "<Figure size 432x288 with 1 Axes>"
      ]
     },
     "metadata": {
      "needs_background": "light"
     },
     "output_type": "display_data"
    },
    {
     "data": {
      "image/png": "[encoded data removed]",
      "text/plain": [
       "<Figure size 432x288 with 1 Axes>"
      ]
     },
     "metadata": {
      "needs_background": "light"
     },
     "output_type": "display_data"
    },
    {
     "name": "stdout",
     "output_type": "stream",
     "text": [
      "Test Accuracy:  0.9148936\n",
      "MSE: 1.6007\n"
     ]
    }
   ],
   "source": [
    "import os\n",
    "learning_rate = 0.3\n",
    "training_epochs = 20\n",
    "cost_history = np.empty(shape=[1], dtype=float)\n",
    "n_dim = x_train[0].shape[0]\n",
    "print(\"Dim: \" + str(n_dim))\n",
    "n_class = 2\n",
    "\n",
    "model_path = os.path.join(\"C:\\\\\",\"Users\",\"qpatole\",\"Programming\", \"Model\")\n",
    "model_path = os.path.join(\"C:\\\\\",\"Homeroot\",\"00Biodling\",\"bee\",\"Model\")\n",
    "\n",
    "n_hidden_1 = 5\n",
    "n_hidden_2 = 5\n",
    "n_hidden_3 = 5\n",
    "n_hidden_4 = 5\n",
    "\n",
    "x = tf.placeholder(tf.float32, [None, n_dim])\n",
    "W = tf.Variable(tf.zeros([n_dim, n_class]))\n",
    "b = tf.Variable(tf.zeros([n_class]))\n",
    "y_ = tf.placeholder(tf.float32, [None, n_class])\n",
    "\n",
    "def multilayer_perceptron(x, weights, biases):\n",
    "    layer_1 = tf.add(tf.matmul(x, weights['h1']), biases['b1'])\n",
    "    layer_1 = tf.nn.sigmoid(layer_1)\n",
    "    \n",
    "#    layer_2 = tf.add(tf.matmul(layer_1, weights['h2']), biases['b2'])\n",
    "#    layer_2 = tf.nn.sigmoid(layer_2)\n",
    "\n",
    "#    layer_3 = tf.add(tf.matmul(layer_2, weights['h3']), biases['b3'])\n",
    "#    layer_3 = tf.nn.sigmoid(layer_3)\n",
    "    \n",
    "    layer_4 = tf.add(tf.matmul(layer_1, weights['h4']), biases['b4'])\n",
    "    layer_4 = tf.nn.relu(layer_4)\n",
    "    \n",
    "    out_layer = tf.matmul(layer_4, weights['out']) + biases['out']\n",
    "    return out_layer\n",
    "\n",
    "weights = {\n",
    "    'h1' : tf.Variable(tf.truncated_normal([n_dim, n_hidden_1])),\n",
    "    'h2' : tf.Variable(tf.truncated_normal([n_hidden_1, n_hidden_2])),\n",
    "    'h3' : tf.Variable(tf.truncated_normal([n_hidden_2, n_hidden_3])),\n",
    "    'h4' : tf.Variable(tf.truncated_normal([n_hidden_3, n_hidden_4])),\n",
    "    'out' : tf.Variable(tf.truncated_normal([n_hidden_4, n_class]))    \n",
    "}\n",
    "\n",
    "biases = {\n",
    "    'b1' : tf.Variable(tf.truncated_normal([n_hidden_1])),\n",
    "    'b2' : tf.Variable(tf.truncated_normal([n_hidden_2])),\n",
    "    'b3' : tf.Variable(tf.truncated_normal([n_hidden_3])),\n",
    "    'b4' : tf.Variable(tf.truncated_normal([n_hidden_4])),\n",
    "    'out' : tf.Variable(tf.truncated_normal([n_class]))    \n",
    "}\n",
    "\n",
    "init = tf.global_variables_initializer()\n",
    "saver = tf.train.Saver()\n",
    "\n",
    "y = multilayer_perceptron(x, weights, biases)\n",
    "cost_function = tf.reduce_mean(tf.nn.softmax_cross_entropy_with_logits(logits=y, labels=y_))\n",
    "training_step = tf.train.GradientDescentOptimizer(learning_rate).minimize(cost_function)\n",
    "\n",
    "sess = tf.Session()\n",
    "sess.run(init)\n",
    "\n",
    "mse_history = []\n",
    "accuracy_history = []\n",
    "\n",
    "Y = one_hot_encode(y_train)\n",
    "for epoch in range(training_epochs):\n",
    "    sess.run(training_step, feed_dict={x: x_train, y_: Y})\n",
    "    cost = sess.run(cost_function, feed_dict={x: x_train, y_: Y})\n",
    "    cost_history = np.append(cost_history, cost)\n",
    "    correct_prediction = tf.equal(tf.argmax(y,1), tf.argmax(y_,1))\n",
    "    accuracy = tf.reduce_mean(tf.cast(correct_prediction, tf.float32))\n",
    "    \n",
    "    pred_y = sess.run(y, feed_dict={x: x_test})\n",
    "    mse = tf.reduce_mean(tf.square(pred_y - y_test))\n",
    "    mse_ = sess.run(mse)\n",
    "    mse_history.append(mse_)\n",
    "    accuracy = (sess.run(accuracy, feed_dict={x: x_train, y_: Y}))\n",
    "    accuracy_history.append(accuracy)\n",
    "    print('epoch: %d - cost %.4f, mse %.4f, train accuracy %.4f' % (epoch, cost, mse_, accuracy))\n",
    "    \n",
    "save_path = saver.save(sess, model_path)\n",
    "print(\"Model saved in file: %s\" % save_path)\n",
    "\n",
    "plt.plot(mse_history, 'r')\n",
    "plt.show()\n",
    "plt.plot(accuracy_history)\n",
    "plt.show()\n",
    "\n",
    "correct_prediction = tf.equal(tf.argmax(y,1), tf.argmax(y_,1))\n",
    "accuracy = tf.reduce_mean(tf.cast(correct_prediction, tf.float32))\n",
    "\n",
    "print(\"Test Accuracy: \", (sess.run(accuracy, feed_dict={x: x_test, y_: one_hot_encode(y_test)})))\n",
    "\n",
    "pred_y = sess.run(y, feed_dict={x: x_test})\n",
    "mse = tf.reduce_mean(tf.square(pred_y - y_test))\n",
    "print(\"MSE: %.4f\" % sess.run(mse))"
   ]
  },
  {
   "cell_type": "code",
   "execution_count": 63,
   "metadata": {},
   "outputs": [
    {
     "ename": "AttributeError",
     "evalue": "'Tensor' object has no attribute 'ndim'",
     "output_type": "error",
     "traceback": [
      "\u001b[1;31m---------------------------------------------------------------------------\u001b[0m",
      "\u001b[1;31mAttributeError\u001b[0m                            Traceback (most recent call last)",
      "\u001b[1;32m<ipython-input-63-acf346c01f48>\u001b[0m in \u001b[0;36m<module>\u001b[1;34m\u001b[0m\n\u001b[0;32m      1\u001b[0m \u001b[0mplt\u001b[0m\u001b[1;33m.\u001b[0m\u001b[0mfigure\u001b[0m\u001b[1;33m(\u001b[0m\u001b[1;33m)\u001b[0m\u001b[1;33m\u001b[0m\u001b[1;33m\u001b[0m\u001b[0m\n\u001b[1;32m----> 2\u001b[1;33m \u001b[0mplt\u001b[0m\u001b[1;33m.\u001b[0m\u001b[0mplot\u001b[0m\u001b[1;33m(\u001b[0m\u001b[0mx\u001b[0m\u001b[1;33m[\u001b[0m\u001b[1;33m:\u001b[0m\u001b[1;33m,\u001b[0m\u001b[1;36m1\u001b[0m\u001b[1;33m]\u001b[0m\u001b[1;33m,\u001b[0m\u001b[0mx\u001b[0m\u001b[1;33m[\u001b[0m\u001b[1;33m:\u001b[0m\u001b[1;33m,\u001b[0m\u001b[1;36m0\u001b[0m\u001b[1;33m]\u001b[0m\u001b[1;33m,\u001b[0m \u001b[1;34m'x'\u001b[0m\u001b[1;33m)\u001b[0m\u001b[1;33m\u001b[0m\u001b[1;33m\u001b[0m\u001b[0m\n\u001b[0m\u001b[0;32m      3\u001b[0m \u001b[0mplt\u001b[0m\u001b[1;33m.\u001b[0m\u001b[0mfigure\u001b[0m\u001b[1;33m(\u001b[0m\u001b[1;33m)\u001b[0m\u001b[1;33m\u001b[0m\u001b[1;33m\u001b[0m\u001b[0m\n\u001b[0;32m      4\u001b[0m \u001b[0mplt\u001b[0m\u001b[1;33m.\u001b[0m\u001b[0mscatter\u001b[0m\u001b[1;33m(\u001b[0m\u001b[0mx\u001b[0m\u001b[1;33m[\u001b[0m\u001b[1;33m:\u001b[0m\u001b[1;33m,\u001b[0m\u001b[1;36m1\u001b[0m\u001b[1;33m]\u001b[0m\u001b[1;33m,\u001b[0m\u001b[0mx\u001b[0m\u001b[1;33m[\u001b[0m\u001b[1;33m:\u001b[0m\u001b[1;33m,\u001b[0m\u001b[1;36m0\u001b[0m\u001b[1;33m]\u001b[0m\u001b[1;33m)\u001b[0m\u001b[1;33m\u001b[0m\u001b[1;33m\u001b[0m\u001b[0m\n",
      "\u001b[1;32m~\\Anaconda3\\envs\\bee\\lib\\site-packages\\matplotlib\\pyplot.py\u001b[0m in \u001b[0;36mplot\u001b[1;34m(scalex, scaley, data, *args, **kwargs)\u001b[0m\n\u001b[0;32m   2809\u001b[0m     return gca().plot(\n\u001b[0;32m   2810\u001b[0m         *args, scalex=scalex, scaley=scaley, **({\"data\": data} if data\n\u001b[1;32m-> 2811\u001b[1;33m         is not None else {}), **kwargs)\n\u001b[0m\u001b[0;32m   2812\u001b[0m \u001b[1;33m\u001b[0m\u001b[0m\n\u001b[0;32m   2813\u001b[0m \u001b[1;33m\u001b[0m\u001b[0m\n",
      "\u001b[1;32m~\\Anaconda3\\envs\\bee\\lib\\site-packages\\matplotlib\\__init__.py\u001b[0m in \u001b[0;36minner\u001b[1;34m(ax, data, *args, **kwargs)\u001b[0m\n\u001b[0;32m   1808\u001b[0m                         \u001b[1;34m\"the Matplotlib list!)\"\u001b[0m \u001b[1;33m%\u001b[0m \u001b[1;33m(\u001b[0m\u001b[0mlabel_namer\u001b[0m\u001b[1;33m,\u001b[0m \u001b[0mfunc\u001b[0m\u001b[1;33m.\u001b[0m\u001b[0m__name__\u001b[0m\u001b[1;33m)\u001b[0m\u001b[1;33m,\u001b[0m\u001b[1;33m\u001b[0m\u001b[1;33m\u001b[0m\u001b[0m\n\u001b[0;32m   1809\u001b[0m                         RuntimeWarning, stacklevel=2)\n\u001b[1;32m-> 1810\u001b[1;33m             \u001b[1;32mreturn\u001b[0m \u001b[0mfunc\u001b[0m\u001b[1;33m(\u001b[0m\u001b[0max\u001b[0m\u001b[1;33m,\u001b[0m \u001b[1;33m*\u001b[0m\u001b[0margs\u001b[0m\u001b[1;33m,\u001b[0m \u001b[1;33m**\u001b[0m\u001b[0mkwargs\u001b[0m\u001b[1;33m)\u001b[0m\u001b[1;33m\u001b[0m\u001b[1;33m\u001b[0m\u001b[0m\n\u001b[0m\u001b[0;32m   1811\u001b[0m \u001b[1;33m\u001b[0m\u001b[0m\n\u001b[0;32m   1812\u001b[0m         inner.__doc__ = _add_data_doc(inner.__doc__,\n",
      "\u001b[1;32m~\\Anaconda3\\envs\\bee\\lib\\site-packages\\matplotlib\\axes\\_axes.py\u001b[0m in \u001b[0;36mplot\u001b[1;34m(self, scalex, scaley, *args, **kwargs)\u001b[0m\n\u001b[0;32m   1609\u001b[0m         \u001b[0mkwargs\u001b[0m \u001b[1;33m=\u001b[0m \u001b[0mcbook\u001b[0m\u001b[1;33m.\u001b[0m\u001b[0mnormalize_kwargs\u001b[0m\u001b[1;33m(\u001b[0m\u001b[0mkwargs\u001b[0m\u001b[1;33m,\u001b[0m \u001b[0mmlines\u001b[0m\u001b[1;33m.\u001b[0m\u001b[0mLine2D\u001b[0m\u001b[1;33m.\u001b[0m\u001b[0m_alias_map\u001b[0m\u001b[1;33m)\u001b[0m\u001b[1;33m\u001b[0m\u001b[1;33m\u001b[0m\u001b[0m\n\u001b[0;32m   1610\u001b[0m \u001b[1;33m\u001b[0m\u001b[0m\n\u001b[1;32m-> 1611\u001b[1;33m         \u001b[1;32mfor\u001b[0m \u001b[0mline\u001b[0m \u001b[1;32min\u001b[0m \u001b[0mself\u001b[0m\u001b[1;33m.\u001b[0m\u001b[0m_get_lines\u001b[0m\u001b[1;33m(\u001b[0m\u001b[1;33m*\u001b[0m\u001b[0margs\u001b[0m\u001b[1;33m,\u001b[0m \u001b[1;33m**\u001b[0m\u001b[0mkwargs\u001b[0m\u001b[1;33m)\u001b[0m\u001b[1;33m:\u001b[0m\u001b[1;33m\u001b[0m\u001b[1;33m\u001b[0m\u001b[0m\n\u001b[0m\u001b[0;32m   1612\u001b[0m             \u001b[0mself\u001b[0m\u001b[1;33m.\u001b[0m\u001b[0madd_line\u001b[0m\u001b[1;33m(\u001b[0m\u001b[0mline\u001b[0m\u001b[1;33m)\u001b[0m\u001b[1;33m\u001b[0m\u001b[1;33m\u001b[0m\u001b[0m\n\u001b[0;32m   1613\u001b[0m             \u001b[0mlines\u001b[0m\u001b[1;33m.\u001b[0m\u001b[0mappend\u001b[0m\u001b[1;33m(\u001b[0m\u001b[0mline\u001b[0m\u001b[1;33m)\u001b[0m\u001b[1;33m\u001b[0m\u001b[1;33m\u001b[0m\u001b[0m\n",
      "\u001b[1;32m~\\Anaconda3\\envs\\bee\\lib\\site-packages\\matplotlib\\axes\\_base.py\u001b[0m in \u001b[0;36m_grab_next_args\u001b[1;34m(self, *args, **kwargs)\u001b[0m\n\u001b[0;32m    391\u001b[0m                 \u001b[0mthis\u001b[0m \u001b[1;33m+=\u001b[0m \u001b[0margs\u001b[0m\u001b[1;33m[\u001b[0m\u001b[1;36m0\u001b[0m\u001b[1;33m]\u001b[0m\u001b[1;33m,\u001b[0m\u001b[1;33m\u001b[0m\u001b[1;33m\u001b[0m\u001b[0m\n\u001b[0;32m    392\u001b[0m                 \u001b[0margs\u001b[0m \u001b[1;33m=\u001b[0m \u001b[0margs\u001b[0m\u001b[1;33m[\u001b[0m\u001b[1;36m1\u001b[0m\u001b[1;33m:\u001b[0m\u001b[1;33m]\u001b[0m\u001b[1;33m\u001b[0m\u001b[1;33m\u001b[0m\u001b[0m\n\u001b[1;32m--> 393\u001b[1;33m             \u001b[1;32myield\u001b[0m \u001b[1;32mfrom\u001b[0m \u001b[0mself\u001b[0m\u001b[1;33m.\u001b[0m\u001b[0m_plot_args\u001b[0m\u001b[1;33m(\u001b[0m\u001b[0mthis\u001b[0m\u001b[1;33m,\u001b[0m \u001b[0mkwargs\u001b[0m\u001b[1;33m)\u001b[0m\u001b[1;33m\u001b[0m\u001b[1;33m\u001b[0m\u001b[0m\n\u001b[0m\u001b[0;32m    394\u001b[0m \u001b[1;33m\u001b[0m\u001b[0m\n\u001b[0;32m    395\u001b[0m \u001b[1;33m\u001b[0m\u001b[0m\n",
      "\u001b[1;32m~\\Anaconda3\\envs\\bee\\lib\\site-packages\\matplotlib\\axes\\_base.py\u001b[0m in \u001b[0;36m_plot_args\u001b[1;34m(self, tup, kwargs)\u001b[0m\n\u001b[0;32m    368\u001b[0m             \u001b[0mx\u001b[0m\u001b[1;33m,\u001b[0m \u001b[0my\u001b[0m \u001b[1;33m=\u001b[0m \u001b[0mindex_of\u001b[0m\u001b[1;33m(\u001b[0m\u001b[0mtup\u001b[0m\u001b[1;33m[\u001b[0m\u001b[1;33m-\u001b[0m\u001b[1;36m1\u001b[0m\u001b[1;33m]\u001b[0m\u001b[1;33m)\u001b[0m\u001b[1;33m\u001b[0m\u001b[1;33m\u001b[0m\u001b[0m\n\u001b[0;32m    369\u001b[0m \u001b[1;33m\u001b[0m\u001b[0m\n\u001b[1;32m--> 370\u001b[1;33m         \u001b[0mx\u001b[0m\u001b[1;33m,\u001b[0m \u001b[0my\u001b[0m \u001b[1;33m=\u001b[0m \u001b[0mself\u001b[0m\u001b[1;33m.\u001b[0m\u001b[0m_xy_from_xy\u001b[0m\u001b[1;33m(\u001b[0m\u001b[0mx\u001b[0m\u001b[1;33m,\u001b[0m \u001b[0my\u001b[0m\u001b[1;33m)\u001b[0m\u001b[1;33m\u001b[0m\u001b[1;33m\u001b[0m\u001b[0m\n\u001b[0m\u001b[0;32m    371\u001b[0m \u001b[1;33m\u001b[0m\u001b[0m\n\u001b[0;32m    372\u001b[0m         \u001b[1;32mif\u001b[0m \u001b[0mself\u001b[0m\u001b[1;33m.\u001b[0m\u001b[0mcommand\u001b[0m \u001b[1;33m==\u001b[0m \u001b[1;34m'plot'\u001b[0m\u001b[1;33m:\u001b[0m\u001b[1;33m\u001b[0m\u001b[1;33m\u001b[0m\u001b[0m\n",
      "\u001b[1;32m~\\Anaconda3\\envs\\bee\\lib\\site-packages\\matplotlib\\axes\\_base.py\u001b[0m in \u001b[0;36m_xy_from_xy\u001b[1;34m(self, x, y)\u001b[0m\n\u001b[0;32m    230\u001b[0m             raise ValueError(\"x and y must have same first dimension, but \"\n\u001b[0;32m    231\u001b[0m                              \"have shapes {} and {}\".format(x.shape, y.shape))\n\u001b[1;32m--> 232\u001b[1;33m         \u001b[1;32mif\u001b[0m \u001b[0mx\u001b[0m\u001b[1;33m.\u001b[0m\u001b[0mndim\u001b[0m \u001b[1;33m>\u001b[0m \u001b[1;36m2\u001b[0m \u001b[1;32mor\u001b[0m \u001b[0my\u001b[0m\u001b[1;33m.\u001b[0m\u001b[0mndim\u001b[0m \u001b[1;33m>\u001b[0m \u001b[1;36m2\u001b[0m\u001b[1;33m:\u001b[0m\u001b[1;33m\u001b[0m\u001b[1;33m\u001b[0m\u001b[0m\n\u001b[0m\u001b[0;32m    233\u001b[0m             raise ValueError(\"x and y can be no greater than 2-D, but have \"\n\u001b[0;32m    234\u001b[0m                              \"shapes {} and {}\".format(x.shape, y.shape))\n",
      "\u001b[1;31mAttributeError\u001b[0m: 'Tensor' object has no attribute 'ndim'"
     ]
    },
    {
     "data": {
      "image/png": "[encoded data removed]",
      "text/plain": [
       "<Figure size 432x288 with 1 Axes>"
      ]
     },
     "metadata": {
      "needs_background": "light"
     },
     "output_type": "display_data"
    }
   ],
   "source": [
    "plt.figure()\n",
    "plt.plot(x[:,1],x[:,0], 'x')\n",
    "plt.figure()\n",
    "plt.scatter(x[:,1],x[:,0])"
   ]
  },
  {
   "cell_type": "code",
   "execution_count": null,
   "metadata": {},
   "outputs": [],
   "source": []
  }
 ],
 "metadata": {
  "kernelspec": {
   "display_name": "Python 3",
   "language": "python",
   "name": "python3"
  },
  "language_info": {
   "codemirror_mode": {
    "name": "ipython",
    "version": 3
   },
   "file_extension": ".py",
   "mimetype": "text/x-python",
   "name": "python",
   "nbconvert_exporter": "python",
   "pygments_lexer": "ipython3",
   "version": "3.6.8"
  }
 },
 "nbformat": 4,
 "nbformat_minor": 2
}
