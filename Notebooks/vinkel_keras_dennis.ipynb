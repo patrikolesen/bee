{
 "cells": [
  {
   "cell_type": "code",
   "execution_count": 13,
   "metadata": {},
   "outputs": [],
   "source": [
    "#cd C:\\Users\\qpatole\\Programming\\WingDataFiles\\bee\\wings\\WingIndexFiles"
   ]
  },
  {
   "cell_type": "code",
   "execution_count": 56,
   "metadata": {},
   "outputs": [
    {
     "name": "stdout",
     "output_type": "stream",
     "text": [
      "C:\\Homeroot\\00Biodling\\bee\\WingDataFiles\\bee\\wings\\WingIndexFiles\n"
     ]
    }
   ],
   "source": [
    "cd C:\\Homeroot\\00Biodling\\bee\\WingDataFiles\\bee\\wings\\WingIndexFiles"
   ]
  },
  {
   "cell_type": "code",
   "execution_count": 110,
   "metadata": {},
   "outputs": [],
   "source": [
    "# Gula italienska - Apis Mellifera Ligustica\n",
    "# Gråa krainerbin - Apis Mellifera Carnica\n",
    "# Mörka nordiska bin - Apis Mellifera Mellifera\n",
    "# Buckfast - Blanding???\n",
    "\n",
    "def isApisMelliferaMellifera(Ci, Dv):\n",
    "    if Dv < 0 and Ci < 1.9:\n",
    "        return 1\n",
    "    return 0\n",
    "\n",
    "def isApisMelliferaCarnica(Ci, Dv):\n",
    "    if 0 < Dv < 10 and 2.1 < Ci < 6:\n",
    "        return 1\n",
    "    return 0\n",
    "\n",
    "def wingIndexClassification(Ci, Dv):\n",
    "    if isApisMelliferaMellifera(Ci, Dv):\n",
    "        return 1\n",
    "    elif isApisMelliferaCarnica(Ci, Dv):\n",
    "        return 2\n",
    "    else:\n",
    "        return 0\n",
    "    \n",
    "class_names = ['Other', 'Millifiera', 'Carnica']    "
   ]
  },
  {
   "cell_type": "code",
   "execution_count": 111,
   "metadata": {
    "scrolled": true
   },
   "outputs": [
    {
     "name": "stdout",
     "output_type": "stream",
     "text": [
      "x shape (1411, 2)\n",
      "y shape (1411,)\n",
      "Millifiera: 1290\n",
      "Carnica: 50\n",
      "Other: 71\n",
      "(1129, 2)\n",
      "(1129, 1)\n",
      "(282, 2)\n",
      "(282, 1)\n",
      "train\n",
      "Millifiera: 1032\n",
      "Carnica: 40\n",
      "Other: 57\n",
      "test\n",
      "Millifiera: 258\n",
      "Carnica: 10\n",
      "Other: 14\n"
     ]
    }
   ],
   "source": [
    "import os\n",
    "import json\n",
    "import numpy as np\n",
    "import random\n",
    "#cwd = os.path.join(\"C:\\\\\",\"Users\",\"qpatole\",\"Programming\",\"WingDataFiles\",\"bee\",\"wings\",\"WingIndexFiles\")\n",
    "cwd = os.path.join(\"C:\\\\\",\"Homeroot\",\"00Biodling\",\"bee\",\"WingDataFiles\",\"bee\",\"wings\",\"WingIndexFiles\")\n",
    "\n",
    "def train_test_split_by_category(x, y, test_size=0.2):\n",
    "    print(\"x shape \" + str(x.shape))\n",
    "    print(\"y shape \" + str(y.shape))\n",
    "    print(\"Millifiera: \" + str(np.sum(y==1)))\n",
    "    print(\"Carnica: \" + str(np.sum(y==2)))\n",
    "    print(\"Other: \" + str(np.sum(y==0)))\n",
    "    \n",
    "    #Devide by category\n",
    "    byCategory = []\n",
    "    train = np.empty([0,3])\n",
    "    test = np.empty([0,3])\n",
    "    #print (\"Len data       \" + str(len(x)))\n",
    "    for i in range(0,3):\n",
    "        data = np.column_stack((x,y))\n",
    "        byCategory.append(data[data[:,2]==i])\n",
    "        np.random.shuffle(byCategory[i])\n",
    "        #print (\"Len category \" + str(i) + \" \" + str(len(byCategory[i])))\n",
    "        split_pos = int(len(byCategory[i])*(test_size))\n",
    "        #print (\"Split pos \" + str(split_pos))\n",
    "        train = np.vstack((train, byCategory[i][split_pos:]))\n",
    "        test = np.vstack((test, byCategory[i][:split_pos]))\n",
    "            \n",
    "        #print(\"Train shape: \" + str(train.shape))\n",
    "        #print(\"Test shape: \" + str(test.shape))\n",
    "    return (train[:,0:2], train[:,[2]], test[:,0:2], test[:,[2]])    \n",
    "\n",
    "\n",
    "\n",
    "\n",
    "def load_DvCi_data(path):\n",
    "    x_train = []\n",
    "    y_train = []\n",
    "    for file in os.listdir(path):\n",
    "        if not \".json\" in file:\n",
    "            continue\n",
    "        with open(file) as json_file:  \n",
    "            data = json.load(json_file)\n",
    "            for wings in data[\"wings\"]:\n",
    "                #print (wings[\"image\"] + \", Dv: \" + str(wings[\"Dv\"]) + \", Ci: \" + str(wings[\"Ci\"]) + \", isApisMelliferaMellifera \" + str(isApisMelliferaMellifera(wings[\"Ci\"], wings[\"Dv\"])))\n",
    "                x_train.append([wings[\"Dv\"], wings[\"Ci\"]])\n",
    "                #y_train.append(isApisMelliferaMellifera(wings[\"Ci\"], wings[\"Dv\"]))\n",
    "                y_train.append(wingIndexClassification(wings[\"Ci\"], wings[\"Dv\"]))\n",
    "                #print(wingIndexClassification(wings[\"Ci\"], wings[\"Dv\"])) \n",
    "    return train_test_split_by_category(np.array(x_train), np.array(y_train))\n",
    "\n",
    "(x_train, y_train, x_test, y_test) = load_DvCi_data(cwd)\n",
    "print(x_train.shape)\n",
    "print(y_train.shape)\n",
    "print(x_test.shape)\n",
    "print(y_test.shape)\n",
    "print(\"train\")\n",
    "print(\"Millifiera: \" + str(np.sum(y_train[:,0]==1)))\n",
    "print(\"Carnica: \" + str(np.sum(y_train[:,0]==2)))\n",
    "print(\"Other: \" + str(np.sum(y_train[:,0]==0)))\n",
    "print(\"test\")\n",
    "print(\"Millifiera: \" + str(np.sum(y_test[:,0]==1)))\n",
    "print(\"Carnica: \" + str(np.sum(y_test[:,0]==2)))\n",
    "print(\"Other: \" + str(np.sum(y_test[:,0]==0)))\n"
   ]
  },
  {
   "cell_type": "code",
   "execution_count": 113,
   "metadata": {},
   "outputs": [
    {
     "data": {
      "text/plain": [
       "<matplotlib.collections.PathCollection at 0x1e51800e518>"
      ]
     },
     "execution_count": 113,
     "metadata": {},
     "output_type": "execute_result"
    },
    {
     "data": {
      "image/png": "[encoded data removed]",
      "text/plain": [
       "<Figure size 432x288 with 1 Axes>"
      ]
     },
     "metadata": {
      "needs_background": "light"
     },
     "output_type": "display_data"
    },
    {
     "data": {
      "image/png": "[encoded data removed]",
      "text/plain": [
       "<Figure size 432x288 with 1 Axes>"
      ]
     },
     "metadata": {
      "needs_background": "light"
     },
     "output_type": "display_data"
    }
   ],
   "source": [
    "plt.figure()\n",
    "plt.title(\"training data\")\n",
    "plt.plot(x_train[:,1],x_train[:,0], 'x')\n",
    "plt.figure()\n",
    "plt.title(\"Test data\")\n",
    "plt.scatter(x_test[:,1],x_test[:,0])"
   ]
  },
  {
   "cell_type": "code",
   "execution_count": 100,
   "metadata": {},
   "outputs": [],
   "source": [
    "from __future__ import absolute_import, division, print_function\n",
    "\n",
    "# TensorFlow and tf.keras\n",
    "import tensorflow as tf\n",
    "from tensorflow import keras\n",
    "\n",
    "# Helper libraries\n",
    "import numpy as np\n",
    "import matplotlib.pyplot as plt\n",
    "\n",
    "\n",
    "model = keras.Sequential([\n",
    "    keras.layers.Flatten(input_shape=(2,)),\n",
    "    keras.layers.Dense(4, activation=tf.nn.relu),\n",
    "    #keras.layers.Dense(4, activation=tf.nn.relu),\n",
    "    keras.layers.Dense(3, activation=tf.nn.softmax)\n",
    "])"
   ]
  },
  {
   "cell_type": "code",
   "execution_count": 101,
   "metadata": {},
   "outputs": [],
   "source": [
    "model.compile(optimizer='adam', \n",
    "              loss='sparse_categorical_crossentropy',\n",
    "              metrics=['accuracy'])"
   ]
  },
  {
   "cell_type": "code",
   "execution_count": 102,
   "metadata": {},
   "outputs": [
    {
     "name": "stdout",
     "output_type": "stream",
     "text": [
      "Epoch 1/50\n",
      "1129/1129 [==============================] - 1s 782us/sample - loss: 1.4030 - acc: 0.0505\n",
      "Epoch 2/50\n",
      "1129/1129 [==============================] - 0s 135us/sample - loss: 1.0410 - acc: 0.2161\n",
      "Epoch 3/50\n",
      "1129/1129 [==============================] - 0s 116us/sample - loss: 0.7665 - acc: 0.9114\n",
      "Epoch 4/50\n",
      "1129/1129 [==============================] - 0s 111us/sample - loss: 0.5895 - acc: 0.9415\n",
      "Epoch 5/50\n",
      "1129/1129 [==============================] - 0s 108us/sample - loss: 0.4789 - acc: 0.9424\n",
      "Epoch 6/50\n",
      "1129/1129 [==============================] - 0s 127us/sample - loss: 0.3967 - acc: 0.9451\n",
      "Epoch 7/50\n",
      "1129/1129 [==============================] - 0s 135us/sample - loss: 0.3333 - acc: 0.9460\n",
      "Epoch 8/50\n",
      "1129/1129 [==============================] - 0s 98us/sample - loss: 0.2850 - acc: 0.9477\n",
      "Epoch 9/50\n",
      "1129/1129 [==============================] - 0s 104us/sample - loss: 0.2487 - acc: 0.9477\n",
      "Epoch 10/50\n",
      "1129/1129 [==============================] - 0s 128us/sample - loss: 0.2213 - acc: 0.9522\n",
      "Epoch 11/50\n",
      "1129/1129 [==============================] - 0s 137us/sample - loss: 0.2010 - acc: 0.9539\n",
      "Epoch 12/50\n",
      "1129/1129 [==============================] - 0s 122us/sample - loss: 0.1850 - acc: 0.9539\n",
      "Epoch 13/50\n",
      "1129/1129 [==============================] - 0s 152us/sample - loss: 0.1731 - acc: 0.9539\n",
      "Epoch 14/50\n",
      "1129/1129 [==============================] - 0s 151us/sample - loss: 0.1638 - acc: 0.9539\n",
      "Epoch 15/50\n",
      "1129/1129 [==============================] - 0s 150us/sample - loss: 0.1561 - acc: 0.9539\n",
      "Epoch 16/50\n",
      "1129/1129 [==============================] - 0s 202us/sample - loss: 0.1501 - acc: 0.9539\n",
      "Epoch 17/50\n",
      "1129/1129 [==============================] - 0s 174us/sample - loss: 0.1455 - acc: 0.9539s - loss: 0.1484 - acc: 0.952\n",
      "Epoch 18/50\n",
      "1129/1129 [==============================] - 0s 127us/sample - loss: 0.1415 - acc: 0.9548\n",
      "Epoch 19/50\n",
      "1129/1129 [==============================] - 0s 173us/sample - loss: 0.1380 - acc: 0.9548\n",
      "Epoch 20/50\n",
      "1129/1129 [==============================] - 0s 166us/sample - loss: 0.1351 - acc: 0.9548\n",
      "Epoch 21/50\n",
      "1129/1129 [==============================] - 0s 171us/sample - loss: 0.1327 - acc: 0.9557\n",
      "Epoch 22/50\n",
      "1129/1129 [==============================] - 0s 120us/sample - loss: 0.1305 - acc: 0.9557\n",
      "Epoch 23/50\n",
      "1129/1129 [==============================] - 0s 170us/sample - loss: 0.1286 - acc: 0.9566\n",
      "Epoch 24/50\n",
      "1129/1129 [==============================] - 0s 129us/sample - loss: 0.1270 - acc: 0.9566\n",
      "Epoch 25/50\n",
      "1129/1129 [==============================] - 0s 143us/sample - loss: 0.1256 - acc: 0.9566\n",
      "Epoch 26/50\n",
      "1129/1129 [==============================] - 0s 124us/sample - loss: 0.1246 - acc: 0.9557\n",
      "Epoch 27/50\n",
      "1129/1129 [==============================] - 0s 143us/sample - loss: 0.1234 - acc: 0.9548\n",
      "Epoch 28/50\n",
      "1129/1129 [==============================] - 0s 137us/sample - loss: 0.1224 - acc: 0.9557\n",
      "Epoch 29/50\n",
      "1129/1129 [==============================] - 0s 142us/sample - loss: 0.1215 - acc: 0.9557\n",
      "Epoch 30/50\n",
      "1129/1129 [==============================] - ETA: 0s - loss: 0.1309 - acc: 0.950 - 0s 143us/sample - loss: 0.1207 - acc: 0.9557\n",
      "Epoch 31/50\n",
      "1129/1129 [==============================] - 0s 134us/sample - loss: 0.1199 - acc: 0.9557\n",
      "Epoch 32/50\n",
      "1129/1129 [==============================] - 0s 128us/sample - loss: 0.1191 - acc: 0.9557\n",
      "Epoch 33/50\n",
      "1129/1129 [==============================] - 0s 133us/sample - loss: 0.1186 - acc: 0.9548\n",
      "Epoch 34/50\n",
      "1129/1129 [==============================] - 0s 144us/sample - loss: 0.1180 - acc: 0.9557\n",
      "Epoch 35/50\n",
      "1129/1129 [==============================] - 0s 135us/sample - loss: 0.1174 - acc: 0.9566\n",
      "Epoch 36/50\n",
      "1129/1129 [==============================] - 0s 152us/sample - loss: 0.1169 - acc: 0.9593\n",
      "Epoch 37/50\n",
      "1129/1129 [==============================] - 0s 128us/sample - loss: 0.1166 - acc: 0.9584\n",
      "Epoch 38/50\n",
      "1129/1129 [==============================] - 0s 126us/sample - loss: 0.1159 - acc: 0.9584\n",
      "Epoch 39/50\n",
      "1129/1129 [==============================] - 0s 126us/sample - loss: 0.1155 - acc: 0.9584\n",
      "Epoch 40/50\n",
      "1129/1129 [==============================] - 0s 126us/sample - loss: 0.1151 - acc: 0.9593\n",
      "Epoch 41/50\n",
      "1129/1129 [==============================] - 0s 148us/sample - loss: 0.1147 - acc: 0.9593\n",
      "Epoch 42/50\n",
      "1129/1129 [==============================] - 0s 117us/sample - loss: 0.1144 - acc: 0.9593\n",
      "Epoch 43/50\n",
      "1129/1129 [==============================] - 0s 120us/sample - loss: 0.1139 - acc: 0.9601\n",
      "Epoch 44/50\n",
      "1129/1129 [==============================] - 0s 126us/sample - loss: 0.1137 - acc: 0.9601\n",
      "Epoch 45/50\n",
      "1129/1129 [==============================] - 0s 91us/sample - loss: 0.1133 - acc: 0.9601\n",
      "Epoch 46/50\n",
      "1129/1129 [==============================] - 0s 169us/sample - loss: 0.1129 - acc: 0.9601\n",
      "Epoch 47/50\n",
      "1129/1129 [==============================] - 0s 112us/sample - loss: 0.1126 - acc: 0.9601\n",
      "Epoch 48/50\n",
      "1129/1129 [==============================] - 0s 106us/sample - loss: 0.1123 - acc: 0.9601\n",
      "Epoch 49/50\n",
      "1129/1129 [==============================] - 0s 95us/sample - loss: 0.1124 - acc: 0.9610\n",
      "Epoch 50/50\n",
      "1129/1129 [==============================] - 0s 103us/sample - loss: 0.1117 - acc: 0.9601\n"
     ]
    },
    {
     "data": {
      "text/plain": [
       "<tensorflow.python.keras.callbacks.History at 0x1e516b32860>"
      ]
     },
     "execution_count": 102,
     "metadata": {},
     "output_type": "execute_result"
    }
   ],
   "source": [
    "model.fit(x_train, y_train, epochs=50)"
   ]
  },
  {
   "cell_type": "code",
   "execution_count": 103,
   "metadata": {},
   "outputs": [
    {
     "name": "stdout",
     "output_type": "stream",
     "text": [
      "282/282 [==============================] - 0s 1ms/sample - loss: 0.1263 - acc: 0.9645\n",
      "Test accuracy: 0.964539\n"
     ]
    }
   ],
   "source": [
    "test_loss, test_acc = model.evaluate(x_test, y_test)\n",
    "\n",
    "print('Test accuracy:', test_acc)"
   ]
  },
  {
   "cell_type": "code",
   "execution_count": 104,
   "metadata": {},
   "outputs": [],
   "source": [
    "predictions = model.predict(x_train)"
   ]
  },
  {
   "cell_type": "code",
   "execution_count": 105,
   "metadata": {},
   "outputs": [
    {
     "data": {
      "text/plain": [
       "array([4.3979010e-01, 8.8906971e-05, 5.6012106e-01], dtype=float32)"
      ]
     },
     "execution_count": 105,
     "metadata": {},
     "output_type": "execute_result"
    }
   ],
   "source": [
    "predictions[0]"
   ]
  },
  {
   "cell_type": "code",
   "execution_count": 109,
   "metadata": {},
   "outputs": [
    {
     "data": {
      "text/plain": [
       "[<matplotlib.lines.Line2D at 0x1e516deff60>,\n",
       " <matplotlib.lines.Line2D at 0x1e516df8128>,\n",
       " <matplotlib.lines.Line2D at 0x1e516df8240>]"
      ]
     },
     "execution_count": 109,
     "metadata": {},
     "output_type": "execute_result"
    },
    {
     "data": {
      "image/png": "[encoded data removed]",
      "text/plain": [
       "<Figure size 432x288 with 1 Axes>"
      ]
     },
     "metadata": {
      "needs_background": "light"
     },
     "output_type": "display_data"
    }
   ],
   "source": [
    "plt.figure()\n",
    "plt.plot(predictions, '*')"
   ]
  },
  {
   "cell_type": "code",
   "execution_count": 106,
   "metadata": {},
   "outputs": [
    {
     "data": {
      "text/plain": [
       "(1129, 3)"
      ]
     },
     "execution_count": 106,
     "metadata": {},
     "output_type": "execute_result"
    }
   ],
   "source": [
    "predictions.shape"
   ]
  },
  {
   "cell_type": "code",
   "execution_count": 87,
   "metadata": {},
   "outputs": [
    {
     "data": {
      "text/plain": [
       "[array([0.48019862, 0.00569106, 0.5141103 ], dtype=float32),\n",
       " array([0.4868894 , 0.01250637, 0.5006042 ], dtype=float32),\n",
       " array([0.68239665, 0.0379935 , 0.27960977], dtype=float32),\n",
       " array([0.48019862, 0.00569106, 0.5141103 ], dtype=float32),\n",
       " array([4.4336233e-01, 2.5218882e-04, 5.5638552e-01], dtype=float32),\n",
       " array([0.48942983, 0.02795663, 0.48261362], dtype=float32),\n",
       " array([0.51842284, 0.04938578, 0.4321914 ], dtype=float32),\n",
       " array([4.1705275e-01, 3.0230982e-05, 5.8291703e-01], dtype=float32),\n",
       " array([0.46241948, 0.00118362, 0.5363969 ], dtype=float32),\n",
       " array([3.6764017e-01, 5.0425638e-07, 6.3235933e-01], dtype=float32),\n",
       " array([4.4032401e-01, 1.9752346e-04, 5.5947852e-01], dtype=float32),\n",
       " array([2.6920027e-01, 6.0036191e-11, 7.3079979e-01], dtype=float32),\n",
       " array([3.7896135e-01, 1.3111536e-06, 6.2103736e-01], dtype=float32),\n",
       " array([0.45992783, 0.40077433, 0.13929778], dtype=float32),\n",
       " array([0.39608434, 0.48580942, 0.1181063 ], dtype=float32),\n",
       " array([3.7123844e-01, 6.8412618e-07, 6.2876087e-01], dtype=float32),\n",
       " array([4.4466442e-01, 2.8003968e-04, 5.5505556e-01], dtype=float32),\n",
       " array([4.3254232e-01, 1.0563142e-04, 5.6735206e-01], dtype=float32),\n",
       " array([4.3152285e-01, 9.7308322e-05, 5.6837988e-01], dtype=float32),\n",
       " array([0.45992783, 0.40077433, 0.13929778], dtype=float32),\n",
       " array([3.8307056e-01, 1.8493172e-06, 6.1692762e-01], dtype=float32),\n",
       " array([0.72829854, 0.254769  , 0.01693254], dtype=float32),\n",
       " array([0.45646667, 0.00072674, 0.54280657], dtype=float32),\n",
       " array([0.35710442, 0.5404004 , 0.10249512], dtype=float32),\n",
       " array([0.49285147, 0.01469578, 0.4924528 ], dtype=float32),\n",
       " array([0.50115234, 0.17792729, 0.32092032], dtype=float32),\n",
       " array([0.58677506, 0.3368525 , 0.07637242], dtype=float32),\n",
       " array([2.8408116e-01, 2.6261918e-10, 7.1591884e-01], dtype=float32),\n",
       " array([0.5930663 , 0.24711058, 0.1598232 ], dtype=float32),\n",
       " array([0.47335872, 0.00300162, 0.5236396 ], dtype=float32),\n",
       " array([0.4885675, 0.0169709, 0.4944616], dtype=float32),\n",
       " array([0.46434537, 0.0013886 , 0.534266  ], dtype=float32),\n",
       " array([0.5646787 , 0.00930653, 0.42601472], dtype=float32),\n",
       " array([0.48176032, 0.00668169, 0.511558  ], dtype=float32),\n",
       " array([0.5563529 , 0.09246778, 0.35117927], dtype=float32),\n",
       " array([4.4033518e-01, 1.9770017e-04, 5.5946714e-01], dtype=float32),\n",
       " array([3.667591e-01, 4.678751e-07, 6.332404e-01], dtype=float32),\n",
       " array([0.39009756, 0.50328046, 0.10662197], dtype=float32),\n",
       " array([4.4150662e-01, 2.1722868e-04, 5.5827612e-01], dtype=float32),\n",
       " array([0.5612669 , 0.18950331, 0.24922982], dtype=float32),\n",
       " array([0.6443983 , 0.0239604 , 0.33164132], dtype=float32),\n",
       " array([0.58002025, 0.0780201 , 0.34195969], dtype=float32),\n",
       " array([3.9799365e-01, 6.3723019e-06, 6.0199994e-01], dtype=float32),\n",
       " array([3.8592777e-01, 2.3468574e-06, 6.1406982e-01], dtype=float32),\n",
       " array([0.5038131 , 0.17236862, 0.32381833], dtype=float32),\n",
       " array([4.2899939e-01, 7.9407466e-05, 5.7092118e-01], dtype=float32),\n",
       " array([4.1509950e-01, 2.5798605e-05, 5.8487463e-01], dtype=float32),\n",
       " array([0.1632844 , 0.820172  , 0.01654349], dtype=float32),\n",
       " array([0.10394191, 0.8884493 , 0.00760878], dtype=float32),\n",
       " array([0.31262207, 0.6520517 , 0.03532626], dtype=float32),\n",
       " array([0.14696826, 0.8294465 , 0.02358525], dtype=float32),\n",
       " array([0.16380611, 0.81295145, 0.02324242], dtype=float32),\n",
       " array([0.2969374 , 0.65026224, 0.05280028], dtype=float32),\n",
       " array([0.19515021, 0.77782995, 0.02701982], dtype=float32),\n",
       " array([0.10625651, 0.8873275 , 0.00641596], dtype=float32),\n",
       " array([0.21579437, 0.7401126 , 0.044093  ], dtype=float32),\n",
       " array([0.22853023, 0.7496225 , 0.02184734], dtype=float32),\n",
       " array([0.3431273 , 0.59258664, 0.06428603], dtype=float32),\n",
       " array([0.10227624, 0.89474314, 0.00298062], dtype=float32),\n",
       " array([0.16265112, 0.82617384, 0.01117507], dtype=float32),\n",
       " array([0.17250252, 0.804181  , 0.02331646], dtype=float32),\n",
       " array([0.16571647, 0.8194447 , 0.01483878], dtype=float32),\n",
       " array([0.2058096 , 0.7640163 , 0.03017422], dtype=float32),\n",
       " array([0.10570436, 0.88861895, 0.00567681], dtype=float32),\n",
       " array([0.10197512, 0.8922707 , 0.0057541 ], dtype=float32),\n",
       " array([0.39256117, 0.547519  , 0.05991982], dtype=float32),\n",
       " array([0.10993862, 0.8844434 , 0.0056179 ], dtype=float32),\n",
       " array([0.1694098 , 0.8124868 , 0.01810333], dtype=float32),\n",
       " array([0.19632241, 0.78590924, 0.01776831], dtype=float32),\n",
       " array([0.10424441, 0.88885695, 0.00689864], dtype=float32),\n",
       " array([0.2969374 , 0.65026224, 0.05280028], dtype=float32),\n",
       " array([0.17583658, 0.8057158 , 0.01844766], dtype=float32),\n",
       " array([0.12572591, 0.86417145, 0.01010273], dtype=float32),\n",
       " array([0.16457655, 0.82339495, 0.01202849], dtype=float32),\n",
       " array([0.12372551, 0.8718859 , 0.00438857], dtype=float32),\n",
       " array([0.12941329, 0.86124223, 0.00934444], dtype=float32),\n",
       " array([0.14245269, 0.8478829 , 0.00966432], dtype=float32),\n",
       " array([0.12762195, 0.86536807, 0.00701006], dtype=float32),\n",
       " array([0.10361012, 0.8901619 , 0.00622792], dtype=float32),\n",
       " array([0.15233128, 0.8326388 , 0.01502991], dtype=float32),\n",
       " array([0.10354005, 0.8928667 , 0.00359338], dtype=float32),\n",
       " array([0.19515021, 0.77782995, 0.02701982], dtype=float32),\n",
       " array([0.11786807, 0.87411326, 0.00801873], dtype=float32),\n",
       " array([0.1606906 , 0.8255199 , 0.01378948], dtype=float32),\n",
       " array([0.16734578, 0.8237097 , 0.00894448], dtype=float32),\n",
       " array([0.2743039 , 0.6769933 , 0.04870277], dtype=float32),\n",
       " array([0.14917172, 0.83741   , 0.01341822], dtype=float32),\n",
       " array([0.29072535, 0.65964735, 0.0496273 ], dtype=float32),\n",
       " array([0.36081588, 0.5585222 , 0.08066195], dtype=float32),\n",
       " array([0.36520538, 0.5644829 , 0.07031169], dtype=float32),\n",
       " array([0.14508568, 0.84003675, 0.01487749], dtype=float32),\n",
       " array([3.3208543e-01, 2.2896685e-08, 6.6791463e-01], dtype=float32),\n",
       " array([4.4155008e-01, 2.1798733e-04, 5.5823201e-01], dtype=float32),\n",
       " array([4.1460386e-01, 2.4780578e-05, 5.8537138e-01], dtype=float32),\n",
       " array([4.3705332e-01, 1.5184651e-04, 5.6279480e-01], dtype=float32),\n",
       " array([3.4037051e-01, 4.7722139e-08, 6.5962946e-01], dtype=float32),\n",
       " array([4.0520832e-01, 1.1519676e-05, 5.9478015e-01], dtype=float32),\n",
       " array([4.1857395e-01, 3.4199027e-05, 5.8139181e-01], dtype=float32),\n",
       " array([2.7466437e-01, 1.0382491e-10, 7.2533560e-01], dtype=float32),\n",
       " array([3.2700786e-01, 1.4530069e-08, 6.7299205e-01], dtype=float32),\n",
       " array([3.2605922e-01, 1.3341060e-08, 6.7394078e-01], dtype=float32),\n",
       " array([3.5849011e-01, 2.3075891e-07, 6.4150959e-01], dtype=float32),\n",
       " array([3.5659155e-01, 1.9598733e-07, 6.4340830e-01], dtype=float32),\n",
       " array([4.3970987e-01, 1.8800574e-04, 5.6010222e-01], dtype=float32),\n",
       " array([4.3825710e-01, 1.6728017e-04, 5.6157565e-01], dtype=float32),\n",
       " array([4.0354535e-01, 1.0053222e-05, 5.9644461e-01], dtype=float32),\n",
       " array([3.0874136e-01, 2.7396323e-09, 6.9125867e-01], dtype=float32),\n",
       " array([0.72493595, 0.01559263, 0.25947145], dtype=float32),\n",
       " array([4.2520657e-01, 5.8478530e-05, 5.7473499e-01], dtype=float32),\n",
       " array([6.912676e-01, 6.945160e-05, 3.086629e-01], dtype=float32),\n",
       " array([3.6541086e-01, 4.1714807e-07, 6.3458872e-01], dtype=float32),\n",
       " array([0.7305374 , 0.01718804, 0.25227445], dtype=float32),\n",
       " array([6.5129489e-01, 3.0247998e-04, 3.4840256e-01], dtype=float32),\n",
       " array([4.3021673e-01, 8.7592358e-05, 5.6969565e-01], dtype=float32),\n",
       " array([3.3636051e-01, 3.3485424e-08, 6.6363943e-01], dtype=float32),\n",
       " array([3.9117306e-01, 3.6281533e-06, 6.0882330e-01], dtype=float32),\n",
       " array([3.7228313e-01, 7.4730241e-07, 6.2771606e-01], dtype=float32),\n",
       " array([0.6980886 , 0.16883636, 0.13307506], dtype=float32),\n",
       " array([4.3908465e-01, 1.7878966e-04, 5.6073660e-01], dtype=float32),\n",
       " array([2.9936257e-01, 1.1383289e-09, 7.0063746e-01], dtype=float32),\n",
       " array([3.6243707e-01, 3.2364866e-07, 6.3756263e-01], dtype=float32),\n",
       " array([3.9182696e-01, 3.8300582e-06, 6.0816920e-01], dtype=float32),\n",
       " array([3.4432465e-01, 6.7540192e-08, 6.5567523e-01], dtype=float32),\n",
       " array([3.0003047e-01, 1.2124358e-09, 6.9996947e-01], dtype=float32),\n",
       " array([3.4451318e-01, 6.8664313e-08, 6.5548676e-01], dtype=float32),\n",
       " array([3.2732552e-01, 1.4951198e-08, 6.7267448e-01], dtype=float32),\n",
       " array([4.0349534e-01, 1.0012213e-05, 5.9649467e-01], dtype=float32),\n",
       " array([3.0924022e-01, 2.8693992e-09, 6.9075978e-01], dtype=float32),\n",
       " array([0.8262398 , 0.04781843, 0.12594171], dtype=float32),\n",
       " array([0.6227946 , 0.01294213, 0.36426327], dtype=float32),\n",
       " array([3.3056468e-01, 1.9988958e-08, 6.6943532e-01], dtype=float32)]"
      ]
     },
     "execution_count": 87,
     "metadata": {},
     "output_type": "execute_result"
    }
   ],
   "source": [
    "[a for a in predictions if a[0] > 0.1 and a[0] < 0.9]"
   ]
  },
  {
   "cell_type": "code",
   "execution_count": 88,
   "metadata": {},
   "outputs": [
    {
     "name": "stdout",
     "output_type": "stream",
     "text": [
      "[[4.8019862e-01 5.6910594e-03 5.1411033e-01]\n",
      " [4.8688939e-01 1.2506366e-02 5.0060421e-01]\n",
      " [6.8239665e-01 3.7993502e-02 2.7960977e-01]\n",
      " ...\n",
      " [8.2623982e-01 4.7818430e-02 1.2594171e-01]\n",
      " [6.2279463e-01 1.2942126e-02 3.6426327e-01]\n",
      " [3.3056468e-01 1.9988958e-08 6.6943532e-01]]\n"
     ]
    }
   ],
   "source": [
    "print(predictions)"
   ]
  },
  {
   "cell_type": "code",
   "execution_count": null,
   "metadata": {},
   "outputs": [],
   "source": []
  },
  {
   "cell_type": "code",
   "execution_count": null,
   "metadata": {},
   "outputs": [],
   "source": []
  }
 ],
 "metadata": {
  "kernelspec": {
   "display_name": "Python 3",
   "language": "python",
   "name": "python3"
  },
  "language_info": {
   "codemirror_mode": {
    "name": "ipython",
    "version": 3
   },
   "file_extension": ".py",
   "mimetype": "text/x-python",
   "name": "python",
   "nbconvert_exporter": "python",
   "pygments_lexer": "ipython3",
   "version": "3.6.8"
  }
 },
 "nbformat": 4,
 "nbformat_minor": 2
}
